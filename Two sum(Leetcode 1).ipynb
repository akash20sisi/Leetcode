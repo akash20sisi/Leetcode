{
 "cells": [
  {
   "cell_type": "markdown",
   "id": "5511aa01-344f-44e6-8ba0-adfc9d8e3fec",
   "metadata": {},
   "source": [
    "# Given an array of integers nums and an integer target, return indices of the two numbers such that they add up to target. You may assume that each input would have exactly one solution, and you may not use the same element twice. You can return the answer in any order."
   ]
  },
  {
   "cell_type": "code",
   "execution_count": 17,
   "id": "5afc4af3-6e71-444e-93f9-28bf7a15c836",
   "metadata": {},
   "outputs": [],
   "source": [
    "from collections import defaultdict\n",
    "class twosum:\n",
    "    def __init__(self):\n",
    "        self.hashmap = defaultdict()\n",
    "\n",
    "    def twosum(self,nums, target):\n",
    "        for i in range(len(nums)):\n",
    "            complement = target - nums[i]\n",
    "            if complement in self.hashmap:\n",
    "                return [i, self.hashmap[complement]]\n",
    "            self.hashmap[nums[i]] = i    \n",
    "        return False    "
   ]
  },
  {
   "cell_type": "code",
   "execution_count": 18,
   "id": "658da5e1-5718-4c70-9f50-56a7fe804dbf",
   "metadata": {},
   "outputs": [
    {
     "data": {
      "text/plain": [
       "[3, 1]"
      ]
     },
     "execution_count": 18,
     "metadata": {},
     "output_type": "execute_result"
    }
   ],
   "source": [
    "nums = [1,7,3,2]\n",
    "target = 9\n",
    "ts = twosum()\n",
    "ts.twosum(nums,target)"
   ]
  },
  {
   "cell_type": "code",
   "execution_count": 19,
   "id": "93b1fd6e-5d0b-4794-a722-8066c6159c31",
   "metadata": {},
   "outputs": [
    {
     "data": {
      "text/plain": [
       "False"
      ]
     },
     "execution_count": 19,
     "metadata": {},
     "output_type": "execute_result"
    }
   ],
   "source": [
    "nums = [1,7,3,9]\n",
    "target = 9\n",
    "ts = twosum()\n",
    "ts.twosum(nums,target)"
   ]
  },
  {
   "cell_type": "code",
   "execution_count": null,
   "id": "ba65c92e-c204-4c91-8fb0-4837bbfbcfee",
   "metadata": {},
   "outputs": [],
   "source": []
  }
 ],
 "metadata": {
  "kernelspec": {
   "display_name": "Python 3 (ipykernel)",
   "language": "python",
   "name": "python3"
  },
  "language_info": {
   "codemirror_mode": {
    "name": "ipython",
    "version": 3
   },
   "file_extension": ".py",
   "mimetype": "text/x-python",
   "name": "python",
   "nbconvert_exporter": "python",
   "pygments_lexer": "ipython3",
   "version": "3.13.2"
  }
 },
 "nbformat": 4,
 "nbformat_minor": 5
}
