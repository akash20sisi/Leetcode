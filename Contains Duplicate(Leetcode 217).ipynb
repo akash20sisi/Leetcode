{
 "cells": [
  {
   "cell_type": "markdown",
   "id": "c1f0ca42-ec9e-4b03-a910-91a7202532ed",
   "metadata": {},
   "source": [
    "# Given an array nums, return true if any value appears atleast twice in the array and return false if every element is distinct."
   ]
  },
  {
   "cell_type": "code",
   "execution_count": 16,
   "id": "816f5a89-f0bb-46d2-ade3-3cdcb93d09d7",
   "metadata": {},
   "outputs": [],
   "source": [
    "nums1 = [1,4,3,5,6]\n",
    "nums2 = [1,4,3,5,4]"
   ]
  },
  {
   "cell_type": "code",
   "execution_count": 23,
   "id": "2aea5532-f721-4c05-b8e7-fa54d5af5f83",
   "metadata": {},
   "outputs": [],
   "source": [
    "class Duplicate_checker:\n",
    "    def __init__(self):\n",
    "        self.seen = set()\n",
    "\n",
    "    def check_duplicates(self,nums):\n",
    "        for num in nums:\n",
    "            if num in self.seen:\n",
    "                return True\n",
    "            else:\n",
    "                self.seen.add(num)\n",
    "        return False        "
   ]
  },
  {
   "cell_type": "code",
   "execution_count": 24,
   "id": "fd369b7e-7d6d-47b0-a685-ad71da17649c",
   "metadata": {},
   "outputs": [
    {
     "name": "stdout",
     "output_type": "stream",
     "text": [
      "False\n",
      "True\n"
     ]
    }
   ],
   "source": [
    "checker = Duplicate_checker()\n",
    "print(checker.check_duplicates(nums1))\n",
    "print(checker.check_duplicates(nums2))"
   ]
  }
 ],
 "metadata": {
  "kernelspec": {
   "display_name": "Python 3 (ipykernel)",
   "language": "python",
   "name": "python3"
  },
  "language_info": {
   "codemirror_mode": {
    "name": "ipython",
    "version": 3
   },
   "file_extension": ".py",
   "mimetype": "text/x-python",
   "name": "python",
   "nbconvert_exporter": "python",
   "pygments_lexer": "ipython3",
   "version": "3.13.2"
  }
 },
 "nbformat": 4,
 "nbformat_minor": 5
}
