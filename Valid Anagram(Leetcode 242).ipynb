{
 "cells": [
  {
   "cell_type": "markdown",
   "id": "5822508c-7a63-41a0-8e2c-cd306308393b",
   "metadata": {},
   "source": [
    "# Given two strings s and t, return true if t is an anagram of s, and False otherwise."
   ]
  },
  {
   "cell_type": "code",
   "execution_count": 35,
   "id": "34ef1632-7f55-4b54-9975-edc9e81d6872",
   "metadata": {},
   "outputs": [],
   "source": [
    "from collections import defaultdict\n",
    "class Anagram:\n",
    "    def __init__(self):\n",
    "        self.count = defaultdict(int)\n",
    "\n",
    "    def isAnagram(self,s,t):\n",
    "        if len(s) != len(t):\n",
    "            return False\n",
    "            \n",
    "        for i in range(len(s)):\n",
    "            self.count[s[i]] += 1\n",
    "            self.count[t[i]] -=1\n",
    "\n",
    "        for value in self.count.values():\n",
    "            if value != 0:\n",
    "                return False   \n",
    "        return True"
   ]
  },
  {
   "cell_type": "markdown",
   "id": "c75b8dec-5c4b-4cfa-b213-0bd3516ad164",
   "metadata": {},
   "source": [
    "# Example 1:"
   ]
  },
  {
   "cell_type": "code",
   "execution_count": 1,
   "id": "e06df53e-3e88-4e19-95d0-d3730685b3c1",
   "metadata": {},
   "outputs": [],
   "source": [
    "s = \"cat\"\n",
    "t = \"tac\""
   ]
  },
  {
   "cell_type": "code",
   "execution_count": 34,
   "id": "69f41d89-57e7-4d7e-b0ef-964b274ef3f2",
   "metadata": {},
   "outputs": [
    {
     "data": {
      "text/plain": [
       "True"
      ]
     },
     "execution_count": 34,
     "metadata": {},
     "output_type": "execute_result"
    }
   ],
   "source": [
    "anagram = Anagram()\n",
    "anagram.isAnagram(s,t)"
   ]
  },
  {
   "cell_type": "markdown",
   "id": "d30acdde-520a-46fb-bceb-814a9b61dca1",
   "metadata": {},
   "source": [
    "# Example 2:"
   ]
  },
  {
   "cell_type": "code",
   "execution_count": 39,
   "id": "d8d0d1ae-0b32-4c78-999a-ce75f9c91a84",
   "metadata": {},
   "outputs": [
    {
     "data": {
      "text/plain": [
       "False"
      ]
     },
     "execution_count": 39,
     "metadata": {},
     "output_type": "execute_result"
    }
   ],
   "source": [
    "s = \"hat\"\n",
    "t = \"cat\"\n",
    "anagram = Anagram()\n",
    "anagram.isAnagram(s,t)"
   ]
  },
  {
   "cell_type": "code",
   "execution_count": null,
   "id": "c329c7bd-0259-42c0-b59d-9318112e0856",
   "metadata": {},
   "outputs": [],
   "source": []
  }
 ],
 "metadata": {
  "kernelspec": {
   "display_name": "Python 3 (ipykernel)",
   "language": "python",
   "name": "python3"
  },
  "language_info": {
   "codemirror_mode": {
    "name": "ipython",
    "version": 3
   },
   "file_extension": ".py",
   "mimetype": "text/x-python",
   "name": "python",
   "nbconvert_exporter": "python",
   "pygments_lexer": "ipython3",
   "version": "3.13.2"
  }
 },
 "nbformat": 4,
 "nbformat_minor": 5
}
